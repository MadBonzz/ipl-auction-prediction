{
 "cells": [
  {
   "cell_type": "code",
   "execution_count": 64,
   "metadata": {},
   "outputs": [],
   "source": [
    "import os\n",
    "import json\n",
    "import requests\n",
    "from dotenv import load_dotenv\n",
    "from tqdm import tqdm\n",
    "from geopy.geocoders import ArcGIS\n",
    "from datetime import datetime, timedelta\n",
    "import pandas as pd"
   ]
  },
  {
   "cell_type": "code",
   "execution_count": 8,
   "metadata": {},
   "outputs": [],
   "source": [
    "load_dotenv('.env')\n",
    "\n",
    "weatherbit_key = os.getenv('WEATHERBIT_KEY')"
   ]
  },
  {
   "cell_type": "code",
   "execution_count": 9,
   "metadata": {},
   "outputs": [],
   "source": [
    "folder_path = 't20s_male_json'\n",
    "json_files = os.listdir(folder_path)\n",
    "\n",
    "countries = ['England', 'Australia', 'Afghanistan', 'India', 'New Zealand', 'South Africa', 'West Indies', 'Bangladesh']\n",
    "top_matches = []\n",
    "weather_list = []"
   ]
  },
  {
   "cell_type": "code",
   "execution_count": 10,
   "metadata": {},
   "outputs": [
    {
     "name": "stderr",
     "output_type": "stream",
     "text": [
      "100%|██████████| 2604/2604 [00:01<00:00, 1849.13it/s]\n"
     ]
    }
   ],
   "source": [
    "for match_file in tqdm(json_files):\n",
    "    if '.json' in match_file:\n",
    "        with open(os.path.join(folder_path, match_file), 'r') as f:\n",
    "            content = f.read()\n",
    "            data = json.loads(content)\n",
    "            if set(data['info']['teams']).issubset(countries):\n",
    "                top_matches.append(match_file) \n",
    "                weather = {}\n",
    "                if 'city' in data['info'].keys():\n",
    "                    weather['city'] = data['info']['city']\n",
    "                if 'venue' in data['info'].keys():\n",
    "                    weather['stadium'] = data['info']['venue']\n",
    "                else:\n",
    "                    print(\"Venue not found\")\n",
    "                if 'dates' in data['info'].keys():\n",
    "                    weather['date'] = data['info']['dates'][0]\n",
    "                weather_list.append(weather)\n"
   ]
  },
  {
   "cell_type": "code",
   "execution_count": 52,
   "metadata": {},
   "outputs": [],
   "source": [
    "def get_next_day(date_str):\n",
    "    date_obj = datetime.strptime(date_str, '%Y-%m-%d')\n",
    "    next_day = date_obj + timedelta(days=1)\n",
    "    return next_day.strftime('%Y-%m-%d')"
   ]
  },
  {
   "cell_type": "code",
   "execution_count": 55,
   "metadata": {},
   "outputs": [
    {
     "name": "stderr",
     "output_type": "stream",
     "text": [
      "100%|██████████| 468/468 [08:11<00:00,  1.05s/it]\n"
     ]
    }
   ],
   "source": [
    "geolocator = ArcGIS(timeout=5)\n",
    "\n",
    "weather_reports = []\n",
    "\n",
    "url = f'https://api.weatherbit.io/v2.0/history/daily?key={weatherbit_key}'\n",
    "\n",
    "for match_info in tqdm(weather_list):\n",
    "    stadium = match_info['stadium']\n",
    "    loc = geolocator.geocode(stadium)\n",
    "    date = match_info['date']\n",
    "    next_date = get_next_day(date)\n",
    "    match = f'&lat={loc.latitude}&lon={loc.longitude}&start_date={date}&end_date={next_date}'\n",
    "    weather_info = requests.get(url+match)\n",
    "    weather_reports.append(weather_info)"
   ]
  },
  {
   "cell_type": "code",
   "execution_count": 60,
   "metadata": {},
   "outputs": [],
   "source": [
    "weather_reports = [report.json() for report in weather_reports]"
   ]
  },
  {
   "cell_type": "code",
   "execution_count": 65,
   "metadata": {},
   "outputs": [],
   "source": [
    "flattened_data = []\n",
    "for report in weather_reports:\n",
    "    for data_entry in report['data']:\n",
    "        # Combine the top-level keys with the nested \"data\" keys\n",
    "        combined_entry = {**report, **data_entry}\n",
    "        # Remove the original \"data\" key to avoid duplication\n",
    "        combined_entry.pop('data', None)\n",
    "        flattened_data.append(combined_entry)\n",
    "\n",
    "df = pd.DataFrame(flattened_data)"
   ]
  },
  {
   "cell_type": "code",
   "execution_count": 68,
   "metadata": {},
   "outputs": [],
   "source": [
    "df.to_csv('weather_reports.csv')"
   ]
  },
  {
   "cell_type": "code",
   "execution_count": null,
   "metadata": {},
   "outputs": [
    {
     "name": "stdout",
     "output_type": "stream",
     "text": [
      "   Unnamed: 0  lat   lon            valid_date  max_temp  min_temp  app_max_temp  app_min_temp  max_wind_spd  rh  clouds  weather_reports  \n",
      "0           0  37.78   -122.4  2023-03-26T00:00:00    15.4     10.4        15.4          10.4           7.7  78      75   {'data': [...}  \n",
      "\n"
     ]
    }
   ],
   "source": [
    "df = pd.read_csv('weather_reports.csv')\n",
    "print(df.head(1))"
   ]
  }
 ],
 "metadata": {
  "kernelspec": {
   "display_name": "auction-prediction",
   "language": "python",
   "name": "python3"
  },
  "language_info": {
   "codemirror_mode": {
    "name": "ipython",
    "version": 3
   },
   "file_extension": ".py",
   "mimetype": "text/x-python",
   "name": "python",
   "nbconvert_exporter": "python",
   "pygments_lexer": "ipython3",
   "version": "3.12.7"
  }
 },
 "nbformat": 4,
 "nbformat_minor": 2
}
