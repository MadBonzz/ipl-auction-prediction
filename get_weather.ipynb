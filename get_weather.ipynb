{
 "cells": [
  {
   "cell_type": "code",
   "execution_count": 1,
   "metadata": {},
   "outputs": [],
   "source": [
    "import os\n",
    "import json\n",
    "import requests\n",
    "from dotenv import load_dotenv\n",
    "from tqdm import tqdm\n",
    "from geopy.geocoders import ArcGIS\n",
    "from datetime import datetime, timedelta\n",
    "import pandas as pd"
   ]
  },
  {
   "cell_type": "code",
   "execution_count": 2,
   "metadata": {},
   "outputs": [],
   "source": [
    "load_dotenv('.env')\n",
    "\n",
    "weatherbit_key = os.getenv('WEATHERBIT_KEY')"
   ]
  },
  {
   "cell_type": "code",
   "execution_count": 3,
   "metadata": {},
   "outputs": [],
   "source": [
    "folder_path = 't20s_male_json'\n",
    "json_files = os.listdir(folder_path)\n",
    "\n",
    "countries = ['England', 'Australia', 'Afghanistan', 'India', 'New Zealand', 'South Africa', 'West Indies', 'Bangladesh']\n",
    "top_matches = []\n",
    "weather_list = []"
   ]
  },
  {
   "cell_type": "code",
   "execution_count": 4,
   "metadata": {},
   "outputs": [
    {
     "name": "stderr",
     "output_type": "stream",
     "text": [
      "100%|██████████| 2604/2604 [00:01<00:00, 1531.74it/s]\n"
     ]
    }
   ],
   "source": [
    "for match_file in tqdm(json_files):\n",
    "    if '.json' in match_file:\n",
    "        with open(os.path.join(folder_path, match_file), 'r') as f:\n",
    "            content = f.read()\n",
    "            data = json.loads(content)\n",
    "            if set(data['info']['teams']).issubset(countries):\n",
    "                top_matches.append(match_file) \n",
    "                weather = {}\n",
    "                if 'city' in data['info'].keys():\n",
    "                    weather['city'] = data['info']['city']\n",
    "                if 'venue' in data['info'].keys():\n",
    "                    weather['stadium'] = data['info']['venue']\n",
    "                else:\n",
    "                    print(\"Venue not found\")\n",
    "                if 'dates' in data['info'].keys():\n",
    "                    weather['date'] = data['info']['dates'][0]\n",
    "                weather_list.append(weather)\n"
   ]
  },
  {
   "cell_type": "code",
   "execution_count": 5,
   "metadata": {},
   "outputs": [],
   "source": [
    "def get_next_day(date_str):\n",
    "    date_obj = datetime.strptime(date_str, '%Y-%m-%d')\n",
    "    next_day = date_obj + timedelta(days=1)\n",
    "    return next_day.strftime('%Y-%m-%d')"
   ]
  },
  {
   "cell_type": "code",
   "execution_count": 8,
   "metadata": {},
   "outputs": [
    {
     "name": "stderr",
     "output_type": "stream",
     "text": [
      "  0%|          | 0/468 [00:00<?, ?it/s]"
     ]
    },
    {
     "name": "stderr",
     "output_type": "stream",
     "text": [
      "100%|██████████| 468/468 [08:57<00:00,  1.15s/it]\n"
     ]
    }
   ],
   "source": [
    "geolocator = ArcGIS(timeout=5)\n",
    "\n",
    "weather_reports = []\n",
    "\n",
    "url = f'https://api.weatherbit.io/v2.0/history/daily?key={weatherbit_key}'\n",
    "\n",
    "for match_info in tqdm(weather_list):\n",
    "    stadium = match_info['stadium']\n",
    "    loc = geolocator.geocode(stadium)\n",
    "    date = match_info['date']\n",
    "    next_date = get_next_day(date)\n",
    "    match = f'&lat={loc.latitude}&lon={loc.longitude}&start_date={date}&end_date={next_date}'\n",
    "    weather_info = requests.get(url+match)\n",
    "    weather_info = weather_info.json()\n",
    "    weather_info['venue'] = stadium\n",
    "    weather_info['date'] = date\n",
    "    weather_reports.append(weather_info)"
   ]
  },
  {
   "cell_type": "code",
   "execution_count": 9,
   "metadata": {},
   "outputs": [],
   "source": [
    "flattened_data = []\n",
    "for report in weather_reports:\n",
    "    for data_entry in report['data']:\n",
    "        combined_entry = {**report, **data_entry}\n",
    "        combined_entry.pop('data', None)\n",
    "        flattened_data.append(combined_entry)\n",
    "\n",
    "df = pd.DataFrame(flattened_data)"
   ]
  },
  {
   "cell_type": "code",
   "execution_count": 10,
   "metadata": {},
   "outputs": [],
   "source": [
    "df.to_csv('weather_reports.csv')"
   ]
  },
  {
   "cell_type": "code",
   "execution_count": 11,
   "metadata": {},
   "outputs": [
    {
     "data": {
      "text/html": [
       "<div>\n",
       "<style scoped>\n",
       "    .dataframe tbody tr th:only-of-type {\n",
       "        vertical-align: middle;\n",
       "    }\n",
       "\n",
       "    .dataframe tbody tr th {\n",
       "        vertical-align: top;\n",
       "    }\n",
       "\n",
       "    .dataframe thead th {\n",
       "        text-align: right;\n",
       "    }\n",
       "</style>\n",
       "<table border=\"1\" class=\"dataframe\">\n",
       "  <thead>\n",
       "    <tr style=\"text-align: right;\">\n",
       "      <th></th>\n",
       "      <th>city_id</th>\n",
       "      <th>city_name</th>\n",
       "      <th>country_code</th>\n",
       "      <th>lat</th>\n",
       "      <th>lon</th>\n",
       "      <th>sources</th>\n",
       "      <th>state_code</th>\n",
       "      <th>station_id</th>\n",
       "      <th>timezone</th>\n",
       "      <th>venue</th>\n",
       "      <th>...</th>\n",
       "      <th>solar_rad</th>\n",
       "      <th>t_dhi</th>\n",
       "      <th>t_dni</th>\n",
       "      <th>t_ghi</th>\n",
       "      <th>t_solar_rad</th>\n",
       "      <th>temp</th>\n",
       "      <th>ts</th>\n",
       "      <th>wind_dir</th>\n",
       "      <th>wind_gust_spd</th>\n",
       "      <th>wind_spd</th>\n",
       "    </tr>\n",
       "  </thead>\n",
       "  <tbody>\n",
       "    <tr>\n",
       "      <th>0</th>\n",
       "      <td>2186313</td>\n",
       "      <td>Napier</td>\n",
       "      <td>NZ</td>\n",
       "      <td>-39.502139</td>\n",
       "      <td>176.911751</td>\n",
       "      <td>[933730-99999, imerg, era5, sat, radar, snodas]</td>\n",
       "      <td>F2</td>\n",
       "      <td>933730-99999</td>\n",
       "      <td>Pacific/Auckland</td>\n",
       "      <td>McLean Park</td>\n",
       "      <td>...</td>\n",
       "      <td>94.0</td>\n",
       "      <td>1463</td>\n",
       "      <td>11564</td>\n",
       "      <td>9194</td>\n",
       "      <td>2267.0</td>\n",
       "      <td>18.6</td>\n",
       "      <td>1483354800</td>\n",
       "      <td>192.0</td>\n",
       "      <td>13.2</td>\n",
       "      <td>2.3</td>\n",
       "    </tr>\n",
       "    <tr>\n",
       "      <th>1</th>\n",
       "      <td>6113406</td>\n",
       "      <td>Prince Rupert</td>\n",
       "      <td>CA</td>\n",
       "      <td>53.975170</td>\n",
       "      <td>-130.691130</td>\n",
       "      <td>[imerg, era5, sat, radar, snodas]</td>\n",
       "      <td>BC</td>\n",
       "      <td>712200-99999</td>\n",
       "      <td>America/Vancouver</td>\n",
       "      <td>Bay Oval</td>\n",
       "      <td>...</td>\n",
       "      <td>10.0</td>\n",
       "      <td>351</td>\n",
       "      <td>3087</td>\n",
       "      <td>831</td>\n",
       "      <td>250.0</td>\n",
       "      <td>1.7</td>\n",
       "      <td>1483689600</td>\n",
       "      <td>125.0</td>\n",
       "      <td>14.4</td>\n",
       "      <td>6.5</td>\n",
       "    </tr>\n",
       "    <tr>\n",
       "      <th>2</th>\n",
       "      <td>6113406</td>\n",
       "      <td>Prince Rupert</td>\n",
       "      <td>CA</td>\n",
       "      <td>53.975170</td>\n",
       "      <td>-130.691130</td>\n",
       "      <td>[imerg, era5, sat, radar, snodas]</td>\n",
       "      <td>BC</td>\n",
       "      <td>712200-99999</td>\n",
       "      <td>America/Vancouver</td>\n",
       "      <td>Bay Oval</td>\n",
       "      <td>...</td>\n",
       "      <td>18.0</td>\n",
       "      <td>357</td>\n",
       "      <td>3148</td>\n",
       "      <td>859</td>\n",
       "      <td>422.0</td>\n",
       "      <td>-1.1</td>\n",
       "      <td>1483862400</td>\n",
       "      <td>76.0</td>\n",
       "      <td>11.6</td>\n",
       "      <td>6.8</td>\n",
       "    </tr>\n",
       "    <tr>\n",
       "      <th>3</th>\n",
       "      <td>2143747</td>\n",
       "      <td>Whittlesea</td>\n",
       "      <td>AU</td>\n",
       "      <td>-37.498999</td>\n",
       "      <td>145.069916</td>\n",
       "      <td>[948600-99999, ASN00086262, imerg, era5, sat, ...</td>\n",
       "      <td>VIC</td>\n",
       "      <td>948600-99999</td>\n",
       "      <td>Australia/Melbourne</td>\n",
       "      <td>Eden Park</td>\n",
       "      <td>...</td>\n",
       "      <td>305.0</td>\n",
       "      <td>1275</td>\n",
       "      <td>10230</td>\n",
       "      <td>7814</td>\n",
       "      <td>6836.6</td>\n",
       "      <td>15.9</td>\n",
       "      <td>1487250000</td>\n",
       "      <td>190.0</td>\n",
       "      <td>10.4</td>\n",
       "      <td>3.7</td>\n",
       "    </tr>\n",
       "    <tr>\n",
       "      <th>4</th>\n",
       "      <td>4722668</td>\n",
       "      <td>Richland Hills</td>\n",
       "      <td>US</td>\n",
       "      <td>32.812897</td>\n",
       "      <td>-97.204765</td>\n",
       "      <td>[747390-13961, US1TXTN0070, US1TXTN0108, US1TX...</td>\n",
       "      <td>TX</td>\n",
       "      <td>747390-13961</td>\n",
       "      <td>America/Chicago</td>\n",
       "      <td>The Rose Bowl</td>\n",
       "      <td>...</td>\n",
       "      <td>307.0</td>\n",
       "      <td>1338</td>\n",
       "      <td>10646</td>\n",
       "      <td>8639</td>\n",
       "      <td>7372.0</td>\n",
       "      <td>29.2</td>\n",
       "      <td>1498021200</td>\n",
       "      <td>71.0</td>\n",
       "      <td>10.8</td>\n",
       "      <td>3.5</td>\n",
       "    </tr>\n",
       "  </tbody>\n",
       "</table>\n",
       "<p>5 rows × 46 columns</p>\n",
       "</div>"
      ],
      "text/plain": [
       "   city_id       city_name country_code        lat         lon  \\\n",
       "0  2186313          Napier           NZ -39.502139  176.911751   \n",
       "1  6113406   Prince Rupert           CA  53.975170 -130.691130   \n",
       "2  6113406   Prince Rupert           CA  53.975170 -130.691130   \n",
       "3  2143747      Whittlesea           AU -37.498999  145.069916   \n",
       "4  4722668  Richland Hills           US  32.812897  -97.204765   \n",
       "\n",
       "                                             sources state_code    station_id  \\\n",
       "0    [933730-99999, imerg, era5, sat, radar, snodas]         F2  933730-99999   \n",
       "1                  [imerg, era5, sat, radar, snodas]         BC  712200-99999   \n",
       "2                  [imerg, era5, sat, radar, snodas]         BC  712200-99999   \n",
       "3  [948600-99999, ASN00086262, imerg, era5, sat, ...        VIC  948600-99999   \n",
       "4  [747390-13961, US1TXTN0070, US1TXTN0108, US1TX...         TX  747390-13961   \n",
       "\n",
       "              timezone          venue  ... solar_rad  t_dhi  t_dni  t_ghi  \\\n",
       "0     Pacific/Auckland    McLean Park  ...      94.0   1463  11564   9194   \n",
       "1    America/Vancouver       Bay Oval  ...      10.0    351   3087    831   \n",
       "2    America/Vancouver       Bay Oval  ...      18.0    357   3148    859   \n",
       "3  Australia/Melbourne      Eden Park  ...     305.0   1275  10230   7814   \n",
       "4      America/Chicago  The Rose Bowl  ...     307.0   1338  10646   8639   \n",
       "\n",
       "   t_solar_rad  temp          ts  wind_dir  wind_gust_spd  wind_spd  \n",
       "0       2267.0  18.6  1483354800     192.0           13.2       2.3  \n",
       "1        250.0   1.7  1483689600     125.0           14.4       6.5  \n",
       "2        422.0  -1.1  1483862400      76.0           11.6       6.8  \n",
       "3       6836.6  15.9  1487250000     190.0           10.4       3.7  \n",
       "4       7372.0  29.2  1498021200      71.0           10.8       3.5  \n",
       "\n",
       "[5 rows x 46 columns]"
      ]
     },
     "execution_count": 11,
     "metadata": {},
     "output_type": "execute_result"
    }
   ],
   "source": [
    "df.head()"
   ]
  },
  {
   "cell_type": "code",
   "execution_count": null,
   "metadata": {},
   "outputs": [
    {
     "name": "stdout",
     "output_type": "stream",
     "text": [
      "   Unnamed: 0  lat   lon            valid_date  max_temp  min_temp  app_max_temp  app_min_temp  max_wind_spd  rh  clouds  weather_reports  \n",
      "0           0  37.78   -122.4  2023-03-26T00:00:00    15.4     10.4        15.4          10.4           7.7  78      75   {'data': [...}  \n",
      "\n"
     ]
    }
   ],
   "source": [
    "df = pd.read_csv('weather_reports.csv')\n",
    "print(df.head(1))"
   ]
  }
 ],
 "metadata": {
  "kernelspec": {
   "display_name": "auction-prediction",
   "language": "python",
   "name": "python3"
  },
  "language_info": {
   "codemirror_mode": {
    "name": "ipython",
    "version": 3
   },
   "file_extension": ".py",
   "mimetype": "text/x-python",
   "name": "python",
   "nbconvert_exporter": "python",
   "pygments_lexer": "ipython3",
   "version": "3.12.7"
  }
 },
 "nbformat": 4,
 "nbformat_minor": 2
}
